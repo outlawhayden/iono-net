{
 "cells": [
  {
   "cell_type": "code",
   "execution_count": 2,
   "id": "7fb0715a",
   "metadata": {},
   "outputs": [
    {
     "name": "stdout",
     "output_type": "stream",
     "text": [
      "(1500, 941)\n",
      "(8500, 941)\n"
     ]
    }
   ],
   "source": [
    "import pandas as pd\n",
    "import numpy as np\n",
    "import matplotlib as mpl\n",
    "import matplotlib.pyplot as plt\n",
    "\n",
    "signal_data_file_path= '/home/houtlaw/iono-net/data/baselines/10k_lownoise/train_image_recon_jnp_unfocused.csv'\n",
    "test_data_file_path='/home/houtlaw/iono-net/data/baselines/10k_lownoise/test_image_recon_jnp_unfocused.csv'\n",
    "\n",
    "test_data = pd.read_csv(test_data_file_path)\n",
    "train_data = pd.read_csv(signal_data_file_path)\n",
    "\n",
    "\n",
    "print(test_data.shape)\n",
    "print(train_data.shape)"
   ]
  },
  {
   "cell_type": "code",
   "execution_count": null,
   "id": "9f763165",
   "metadata": {},
   "outputs": [],
   "source": []
  }
 ],
 "metadata": {
  "kernelspec": {
   "display_name": "houtlaw",
   "language": "python",
   "name": "python3"
  },
  "language_info": {
   "codemirror_mode": {
    "name": "ipython",
    "version": 3
   },
   "file_extension": ".py",
   "mimetype": "text/x-python",
   "name": "python",
   "nbconvert_exporter": "python",
   "pygments_lexer": "ipython3",
   "version": "3.12.6"
  }
 },
 "nbformat": 4,
 "nbformat_minor": 5
}
