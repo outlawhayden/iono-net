{
 "cells": [
  {
   "cell_type": "code",
   "execution_count": 29,
   "metadata": {},
   "outputs": [],
   "source": [
    "import numpy as np\n",
    "import matplotlib.pyplot as plt\n",
    "import jax.numpy as jnp\n",
    "import jax\n",
    "from jax import vmap, value_and_grad\n",
    "import optax\n",
    "import jaxopt\n",
    "import enlighten\n",
    "import os\n",
    "import scipy\n",
    "\n",
    "from NNmodels import MLP, MLP_init_params, glorot_normal, MSE"
   ]
  },
  {
   "cell_type": "code",
   "execution_count": 14,
   "metadata": {},
   "outputs": [
    {
     "name": "stdout",
     "output_type": "stream",
     "text": [
      "[cuda(id=0)]\n"
     ]
    }
   ],
   "source": [
    "os.environ['CUDA_VISIBLE_DEVICES'] = '0'\n",
    "devices = jax.local_devices()\n",
    "print(devices)"
   ]
  },
  {
   "cell_type": "code",
   "execution_count": 15,
   "metadata": {},
   "outputs": [],
   "source": [
    "tr_config = {\"lr_0\" : 0.001, \n",
    "             \"lr_gamma\": 0.95,\n",
    "             \"lr_step\" : 1000,\n",
    "             \"lr_f\" : 1e-5,\n",
    "             \"maxiter_adam\" : 1000,\n",
    "             \"maxiter_lbfgs\": 1000,\n",
    "             \"deepOnet_width\" : 50,\n",
    "             \"trunk_architecture\" : [50, 50, 50],\n",
    "             \"trunk_activation\": jnp.tanh,\n",
    "             \"trunk_input_dim\": 1,\n",
    "             \"trunk_output_dim\": 1,\n",
    "             \"trunk_sensor\": 100,\n",
    "             \"num_train\": 10,\n",
    "             \"num_test\": 5}"
   ]
  },
  {
   "cell_type": "code",
   "execution_count": 17,
   "metadata": {},
   "outputs": [],
   "source": [
    "# Data\n",
    "# trk_sensor_pts : # trk sensor x trk_net input dim\n",
    "# trk_targets    : # of data    x # trk sensor\n",
    "trk_sensor_pts = np.random.uniform(0,1,(tr_config['trunk_sensor'],tr_config['trunk_input_dim']))\n",
    "for i in range(tr_config['num_train']):\n",
    "    w = (i+1)/tr_config['num_train']\n",
    "    if i == 0:\n",
    "        trk_targets = np.sin(np.pi*w*trk_sensor_pts)\n",
    "    else:\n",
    "        trk_targets = np.concatenate([trk_targets, np.sin(np.pi*w*trk_sensor_pts)],axis=1)"
   ]
  },
  {
   "cell_type": "code",
   "execution_count": 16,
   "metadata": {},
   "outputs": [],
   "source": [
    "# Initialize 'Trunk Network' and 'A'\n",
    "T_layers   = [tr_config[\"trunk_input_dim\"]] + tr_config[\"trunk_architecture\"] + [tr_config[\"deepOnet_width\"]]\n",
    "T_act_fn   = tr_config[\"trunk_activation\"]\n",
    "params_trk = MLP_init_params(T_layers)\n",
    "NN_trk     = MLP\n",
    "params_A   = glorot_normal(tr_config['num_train'],tr_config['deepOnet_width']+1)\n",
    "params     = params_trk, params_A"
   ]
  },
  {
   "cell_type": "code",
   "execution_count": 18,
   "metadata": {},
   "outputs": [],
   "source": [
    "def DON_step1(params):\n",
    "    params_trk, params_A = params\n",
    "    return lambda x: (params_A[:,:-1] @ NN_trk(params_trk, x, T_act_fn)[:,None] + params_A[:,-1][:,None])[:,0]\n",
    "\n",
    "@jax.jit\n",
    "def loss_step1(params):\n",
    "    don_fn = DON_step1(params)\n",
    "    return MSE(vmap(don_fn, (0))(trk_sensor_pts), trk_targets)\n",
    "\n",
    "value_grad_fn = value_and_grad(loss_step1)"
   ]
  },
  {
   "cell_type": "code",
   "execution_count": 19,
   "metadata": {},
   "outputs": [
    {
     "data": {
      "text/html": [
       "<style>\n",
       ".enlighten-fg-red {\n",
       "  color: #cd0000;\n",
       "}\n",
       "</style>\n",
       "<div class=\"enlighten\">\n",
       "  <div class=\"enlighten-bar\">\n",
       "    <pre>Main Loop 100%|<span class=\"enlighten-fg-red\">███████████████████████████</span>| 1000/1000 [00:07&lt;00:00, 147.96 epochs/s] loss=6.9836e-05</pre>\n",
       "  </div>\n",
       "</div>\n"
      ],
      "text/plain": [
       "<IPython.core.display.HTML object>"
      ]
     },
     "metadata": {},
     "output_type": "display_data"
    }
   ],
   "source": [
    "maxepochs  = tr_config[\"maxiter_adam\"]\n",
    "lr0        = tr_config[\"lr_0\"]\n",
    "decay_rate = tr_config[\"lr_gamma\"]\n",
    "decay_step = tr_config[\"lr_step\"]\n",
    "lrf        = tr_config[\"lr_f\"]\n",
    "\n",
    "manager = enlighten.get_manager()\n",
    "outer_bar_format = u'{desc}{desc_pad}{percentage:3.0f}%|{bar}| ' + \\\n",
    "                 u'{count:{len_total}d}/{total:d} ' + \\\n",
    "                 u'[{elapsed}<{eta}, {rate:.2f}{unit_pad}{unit}/s] ' + \\\n",
    "                 u'{loss}{current_loss:1.4e}'\n",
    "pbar_outer = manager.counter(total=maxepochs, desc=\"Main Loop\", unit=\"epochs\", color=\"red\", loss=\"loss=\", current_loss=1e+9, bar_format=outer_bar_format)\n",
    "\n",
    "opt_adam = optax.adam(optax.exponential_decay(lr0, decay_step, decay_rate,end_value=lrf))\n",
    "opt_state = opt_adam.init(params)\n",
    "\n",
    "log_loss  = []\n",
    "log_minloss = []\n",
    "\n",
    "for epoch in range(maxepochs):\n",
    "    lvalue, grads = value_grad_fn(params)\n",
    "    updates, opt_state = opt_adam.update(grads, opt_state)  # arbitrary optim logic!\n",
    "    params = optax.apply_updates(params, updates)\n",
    "    pbar_outer.update(current_loss=lvalue)\n",
    "    if epoch == 0:\n",
    "        minloss = lvalue\n",
    "    if lvalue < minloss:\n",
    "        minloss = lvalue\n",
    "        params_opt = params\n",
    "    log_loss.append(lvalue)\n",
    "    log_minloss.append(minloss)\n",
    "\n",
    "manager.stop()"
   ]
  },
  {
   "cell_type": "code",
   "execution_count": 20,
   "metadata": {},
   "outputs": [
    {
     "data": {
      "image/png": "[encoded data removed]",
      "text/plain": [
       "<Figure size 640x480 with 1 Axes>"
      ]
     },
     "metadata": {},
     "output_type": "display_data"
    }
   ],
   "source": [
    "plt.figure()\n",
    "plt.semilogy(log_loss)\n",
    "plt.xlabel('the number of iterations')\n",
    "plt.ylabel('Step 1: Training Loss (MSE)')\n",
    "plt.show()"
   ]
  },
  {
   "cell_type": "code",
   "execution_count": 21,
   "metadata": {},
   "outputs": [
    {
     "name": "stdout",
     "output_type": "stream",
     "text": [
      "INFO: jaxopt.ZoomLineSearch: Iter: 1 Minimum Decrease & Curvature Errors (stop. crit.): 0.00016180751845240593 Stepsize:1.0  Decrease Error:8.173569949576631e-05  Curvature Error:0.00016180751845240593 \n",
      "INFO: jaxopt.ZoomLineSearch: Iter: 2 Minimum Decrease & Curvature Errors (stop. crit.): 7.458130130544305e-05 Stepsize:0.5  Decrease Error:1.8597982489154674e-05  Curvature Error:7.458130130544305e-05 \n",
      "INFO: jaxopt.ZoomLineSearch: Iter: 3 Minimum Decrease & Curvature Errors (stop. crit.): 3.0453626095550135e-05 Stepsize:0.25  Decrease Error:3.994072812929517e-06  Curvature Error:3.0453626095550135e-05 \n",
      "INFO: jaxopt.ZoomLineSearch: Iter: 4 Minimum Decrease & Curvature Errors (stop. crit.): 0.0 Stepsize:0.039284978061914444  Decrease Error:0.0  Curvature Error:0.0 \n",
      "INFO: jaxopt.LBFGS: Iter: 1 Gradient Norm (stop. crit.): 0.00050575245404616 Objective Value:6.968012894503772e-05  Stepsize:0.039284978061914444  Number Linesearch Iterations:4 \n"
     ]
    }
   ],
   "source": [
    "opt_lbfgs   = jaxopt.LBFGS(fun=loss_step1, value_and_grad=False, maxiter = tr_config[\"maxiter_lbfgs\"], history_size=10, verbose=True)\n",
    "res = opt_lbfgs.run(params_opt)\n",
    "params_opt, state = res"
   ]
  },
  {
   "cell_type": "code",
   "execution_count": 35,
   "metadata": {},
   "outputs": [],
   "source": [
    "params_trk, params_A = params_opt\n",
    "trk_MAT1 = np.concatenate([vmap(lambda x: NN_trk(params_trk, x, T_act_fn), (0))(trk_sensor_pts),jnp.ones([tr_config[\"trunk_sensor\"],1])], axis=1)\n",
    "params_A = scipy.linalg.lstsq(trk_MAT1, trk_targets)[0]\n",
    "q_st, r_st = scipy.linalg.qr(trk_MAT1, mode='economic')\n",
    "A_target   = r_st @ params_A"
   ]
  },
  {
   "cell_type": "code",
   "execution_count": 34,
   "metadata": {},
   "outputs": [
    {
     "data": {
      "text/plain": [
       "(51, 10)"
      ]
     },
     "execution_count": 34,
     "metadata": {},
     "output_type": "execute_result"
    }
   ],
   "source": [
    "# save : params_trk, A_target (must save) | In Step 2, Branch should learn A_target\n",
    "# save : trk_MAT1, params_A   (optional)"
   ]
  }
 ],
 "metadata": {
  "kernelspec": {
   "display_name": "jaxenv",
   "language": "python",
   "name": "python3"
  },
  "language_info": {
   "codemirror_mode": {
    "name": "ipython",
    "version": 3
   },
   "file_extension": ".py",
   "mimetype": "text/x-python",
   "name": "python",
   "nbconvert_exporter": "python",
   "pygments_lexer": "ipython3",
   "version": "3.12.3"
  }
 },
 "nbformat": 4,
 "nbformat_minor": 2
}
