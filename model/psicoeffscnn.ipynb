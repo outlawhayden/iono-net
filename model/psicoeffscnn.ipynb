{
 "cells": [
  {
   "cell_type": "code",
   "execution_count": 95,
   "metadata": {},
   "outputs": [
    {
     "name": "stdout",
     "output_type": "stream",
     "text": [
      "Backend Selected: gpu\n",
      "Detected Devices: [CudaDevice(id=0)]\n"
     ]
    },
    {
     "name": "stderr",
     "output_type": "stream",
     "text": [
      "/tmp/ipykernel_862874/2812049330.py:11: DeprecationWarning: jax.lib.xla_bridge.get_backend is deprecated; use jax.extend.backend.get_backend.\n",
      "  print(\"Backend Selected:\", jax.lib.xla_bridge.get_backend().platform)\n"
     ]
    }
   ],
   "source": [
    "import flax.linen as nn\n",
    "import jax.numpy as jnp\n",
    "import os\n",
    "import jax\n",
    "from jax import random\n",
    "import numpy as np\n",
    "\n",
    "os.environ['CUDA_VISIBLE_DEVICES'] = '0'\n",
    "devices = jax.local_devices()\n",
    "\n",
    "print(\"Backend Selected:\", jax.lib.xla_bridge.get_backend().platform)\n",
    "print(\"Detected Devices:\", jax.devices())"
   ]
  },
  {
   "cell_type": "code",
   "execution_count": 96,
   "metadata": {},
   "outputs": [],
   "source": [
    "# data config\n",
    "batch_size = 100\n",
    "signal_length = 1000"
   ]
  },
  {
   "cell_type": "code",
   "execution_count": 97,
   "metadata": {},
   "outputs": [],
   "source": [
    "#making sample data\n",
    "\n",
    "def split_complex_to_imaginary(complex_array):\n",
    "    \"\"\"Splits a complex array into real and imaginary parts and flattens it.\"\"\"\n",
    "    return np.concatenate([complex_array.real, complex_array.imag], axis=-1)\n",
    "\n",
    "num_samples = 30\n",
    "\n",
    "# Test sample data\n",
    "signal_data = [np.random.randn(1000) + 1j * np.random.randn(1000) for _ in range(num_samples)]\n",
    "coefficients_data = [np.random.randn(6) + 1j * np.random.randn(6) for _ in range(num_samples)]"
   ]
  },
  {
   "cell_type": "code",
   "execution_count": 98,
   "metadata": {},
   "outputs": [
    {
     "name": "stdout",
     "output_type": "stream",
     "text": [
      "Batch signal shape: (30, 2000)\n",
      "Batch coefficients shape: (30, 12)\n"
     ]
    }
   ],
   "source": [
    "# dataloader (shouldn't use pytorch DataLoader objects? build my own fast one)\n",
    "\n",
    "# Each signal has length 1000, coefficients have length 6\n",
    "signal_data_real_imag = [split_complex_to_imaginary(signal) for signal in signal_data]  # Now each is length 2000\n",
    "coefficients_data_real_imag = [split_complex_to_imaginary(coeff) for coeff in coefficients_data]  # Now each is length 12\n",
    "\n",
    "# Create dataset as pairs of (signal, coefficients)\n",
    "dataset = list(zip(signal_data_real_imag, coefficients_data_real_imag))\n",
    "\n",
    "def data_loader(dataset, batch_size, shuffle=True):\n",
    "    dataset_size = len(dataset)\n",
    "    indices = np.arange(dataset_size)\n",
    "    \n",
    "    # Shuffle dataset if required\n",
    "    if shuffle:\n",
    "        np.random.shuffle(indices)\n",
    "    \n",
    "    # Loop over dataset and yield batches\n",
    "    for start_idx in range(0, dataset_size, batch_size):\n",
    "        end_idx = min(start_idx + batch_size, dataset_size)\n",
    "        batch_indices = indices[start_idx:end_idx]\n",
    "        \n",
    "        # Extract the batch of signals and coefficients separately\n",
    "        batch_signal = [dataset[i][0] for i in batch_indices]  # Signal of length 2000\n",
    "        batch_coefficients = [dataset[i][1] for i in batch_indices]  # Coefficients of length 12\n",
    "        \n",
    "        # Convert the batch data to JAX arrays\n",
    "        yield jnp.array(batch_signal), jnp.array(batch_coefficients)\n",
    "\n",
    "\n",
    "for batch_signal, batch_coefficients in data_loader(dataset, batch_size):\n",
    "    print(f\"Batch signal shape: {batch_signal.shape}\")  # Should be (32, 2000)\n",
    "    print(f\"Batch coefficients shape: {batch_coefficients.shape}\")  # Should be (32, 12)"
   ]
  },
  {
   "cell_type": "code",
   "execution_count": 114,
   "metadata": {},
   "outputs": [],
   "source": [
    "class ComplexFCNN(nn.Module):\n",
    "\n",
    "    @nn.compact\n",
    "    def __call__(self, x, deterministic, rngs={'dropout': key}):\n",
    "        x = nn.Dense(128)(x)\n",
    "        x = nn.relu(x)\n",
    "        x = nn.Dropout(0.2)(x, deterministic=deterministic)\n",
    "        x = nn.Dense(64)(x)\n",
    "        x = nn.relu(x)\n",
    "        x = nn.Dense(12)(x) # needs to be 12 for 6 re values and 6 im values - last layer\n",
    "        return x\n",
    "\n",
    "# instance model\n",
    "model = ComplexFCNN()\n",
    "\n",
    "# set seed\n",
    "key = random.PRNGKey(0)\n",
    "\n",
    "input_shape = (batch_size, 2 * signal_length)\n",
    "\n",
    "# initialize as 1s\n",
    "variables = model.init(key, jnp.ones(input_shape), deterministic = True)\n",
    "\n",
    "#forward pass to config\n",
    "output = model.apply(variables, jnp.ones(input_shape), deterministic=True)"
   ]
  },
  {
   "cell_type": "code",
   "execution_count": 115,
   "metadata": {},
   "outputs": [],
   "source": [
    "def loss_fn(params, model, inputs, true_coeffs, deterministic, rng_key):\n",
    "    # Forward pass with the deterministic flag and PRNG key for dropout\n",
    "    preds = model.apply({'params': params}, inputs, deterministic=deterministic, rngs={'dropout': rng_key})\n",
    "    \n",
    "    # Split predictions into real and imaginary parts\n",
    "    preds_real, preds_imag = preds[:, :6], preds[:, 6:]\n",
    "    print(\"preds_real\", preds_real.shape)\n",
    "    print(\"preds_imag\", preds_imag.shape)\n",
    "    true_real, true_imag = true_coeffs[:, :6], true_coeffs[:, 6:]\n",
    "    \n",
    "    # MSE loss for real and imaginary parts\n",
    "    loss_real = jnp.mean((preds_real - true_real) ** 2)\n",
    "    loss_imag = jnp.mean((preds_imag - true_imag) ** 2)\n",
    "    \n",
    "    return loss_real + loss_imag\n"
   ]
  },
  {
   "cell_type": "code",
   "execution_count": 116,
   "metadata": {},
   "outputs": [
    {
     "name": "stdout",
     "output_type": "stream",
     "text": [
      "Batch signal shape: (30, 2000)\n",
      "Batch coefficients shape: (30, 12)\n",
      "preds_real (30, 6)\n",
      "preds_imag (30, 6)\n"
     ]
    }
   ],
   "source": [
    "# optimize using adam\n",
    "\n",
    "from flax.training import train_state\n",
    "import optax\n",
    "\n",
    "root_key = jax.random.PRNGKey(seed=0)\n",
    "main_key, params_key, rng_key = jax.random.split(key=root_key, num=3)\n",
    "\n",
    "class TrainState(train_state.TrainState):\n",
    "    loss_fn = staticmethod(loss_fn)\n",
    "\n",
    "#initialize training state and optimizer\n",
    "tx = optax.adam(learning_rate = 1e-3)\n",
    "state = TrainState.create(apply_fn=model.apply, params=variables['params'], tx = tx)\n",
    "\n",
    "# Simplified training loop\n",
    "for batch_signal, batch_coefficients in data_loader(dataset, batch_size):\n",
    "    print(f\"Batch signal shape: {batch_signal.shape}\")  # Should be (batch_size, 2 * signal_length)\n",
    "    print(f\"Batch coefficients shape: {batch_coefficients.shape}\")  # Should be (batch_size, 2 * 6)\n",
    "    \n",
    "    # Generate a new PRNG key for dropout for this batch\n",
    "    rng_key, subkey = jax.random.split(rng_key)\n",
    "\n",
    "    # Pass the PRNG key for dropout to the loss function\n",
    "    loss, grads = jax.value_and_grad(state.loss_fn)(\n",
    "        state.params, model, batch_signal, batch_coefficients, deterministic=False, rng_key=subkey\n",
    "    )\n",
    "    \n",
    "    # Apply gradients to update model parameters\n",
    "    state = state.apply_gradients(grads=grads)"
   ]
  },
  {
   "cell_type": "code",
   "execution_count": null,
   "metadata": {},
   "outputs": [],
   "source": []
  }
 ],
 "metadata": {
  "kernelspec": {
   "display_name": "houtlaw",
   "language": "python",
   "name": "python3"
  },
  "language_info": {
   "codemirror_mode": {
    "name": "ipython",
    "version": 3
   },
   "file_extension": ".py",
   "mimetype": "text/x-python",
   "name": "python",
   "nbconvert_exporter": "python",
   "pygments_lexer": "ipython3",
   "version": "3.12.6"
  }
 },
 "nbformat": 4,
 "nbformat_minor": 2
}
