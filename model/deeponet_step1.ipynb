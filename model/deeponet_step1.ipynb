{
 "cells": [
  {
   "cell_type": "code",
   "execution_count": 15,
   "metadata": {},
   "outputs": [],
   "source": [
    "import numpy as np\n",
    "import matplotlib.pyplot as plt\n",
    "import jax.numpy as jnp\n",
    "import jax\n",
    "from jax import vmap, value_and_grad\n",
    "import optax\n",
    "import jaxopt\n",
    "import enlighten\n",
    "import os\n",
    "import scipy\n",
    "\n",
    "from NNmodels import MLP, MLP_init_params, glorot_normal, MSE"
   ]
  },
  {
   "cell_type": "code",
   "execution_count": 16,
   "metadata": {},
   "outputs": [
    {
     "name": "stdout",
     "output_type": "stream",
     "text": [
      "[CudaDevice(id=0)]\n"
     ]
    }
   ],
   "source": [
    "# check for devices - if gpu available\n",
    "os.environ['CUDA_VISIBLE_DEVICES'] = '0'\n",
    "devices = jax.local_devices()\n",
    "print(devices)"
   ]
  },
  {
   "cell_type": "code",
   "execution_count": 17,
   "metadata": {},
   "outputs": [],
   "source": [
    "# training config dict\n",
    "tr_config = {\n",
    "    \"lr_0\" : 0.001,              # Initial learning rate for the optimizer\n",
    "    \"lr_gamma\": 0.95,            # Learning rate decay factor (multiplies the learning rate by this value at each step)\n",
    "    \"lr_step\" : 1000,            # Number of iterations after which the learning rate is updated (decayed)\n",
    "    \"lr_f\" : 1e-5,               # Final learning rate (smallest allowed learning rate after decay)\n",
    "    \"maxiter_adam\" : 1000,       # Maximum number of iterations for the Adam optimizer\n",
    "    \"maxiter_lbfgs\": 1000,       # Maximum number of iterations for the L-BFGS optimizer\n",
    "    \"deepOnet_width\" : 50,       # Width of the hidden layers in the DeepONet model (number of neurons per layer)\n",
    "    \"trunk_architecture\" : [50, 50, 50],  # Architecture of the trunk network, with 3 layers each containing 50 neurons\n",
    "    \"trunk_activation\": jnp.tanh, # Activation function used in the trunk network (tanh in this case)\n",
    "    \"trunk_input_dim\": 1,        # Input dimension for the trunk network\n",
    "    \"trunk_output_dim\": 1,       # Output dimension for the trunk network\n",
    "    \"trunk_sensor\": 100,         # Number of sensors (inputs) for the trunk network\n",
    "    \"num_train\": 10,             # Number of training samples\n",
    "    \"num_test\": 5                # Number of test samples\n",
    "}\n"
   ]
  },
  {
   "cell_type": "code",
   "execution_count": 18,
   "metadata": {},
   "outputs": [],
   "source": [
    "# Data preparation\n",
    "\n",
    "# trk_sensor_pts: Sensor points for the trunk network\n",
    "# Randomly generates points uniformly in the range [0, 1]\n",
    "# Shape: (number of sensors, trunk input dimension)\n",
    "trk_sensor_pts = np.random.uniform(0, 1, (tr_config['trunk_sensor'], tr_config['trunk_input_dim']))\n",
    "\n",
    "# Loop through the number of training samples\n",
    "for i in range(tr_config['num_train']):\n",
    "    w = (i + 1) / tr_config['num_train']  # Weighting factor based on the current sample index\n",
    "\n",
    "    if i == 0:\n",
    "        # Initialize the target values for the first training sample\n",
    "        # trk_targets: Sine values of the weighted sensor points (first target)\n",
    "        # Shape: (number of sensors, trunk input dimension)\n",
    "        trk_targets = np.sin(np.pi * w * trk_sensor_pts)\n",
    "    else:\n",
    "        # Concatenate the sine values for subsequent training samples along the second axis (column-wise)\n",
    "        # Expands the targets matrix to include all training samples\n",
    "        # Axis 1 means concatenate along columns\n",
    "        trk_targets = np.concatenate([trk_targets, np.sin(np.pi * w * trk_sensor_pts)], axis=1)\n"
   ]
  },
  {
   "cell_type": "code",
   "execution_count": 19,
   "metadata": {},
   "outputs": [],
   "source": [
    "# Initialize 'Trunk Network' and 'A'\n",
    "\n",
    "# T_layers: Defines the architecture of the trunk network\n",
    "# Starts with the input dimension, followed by the trunk architecture (hidden layers),\n",
    "# and ends with the width of the DeepONet network.\n",
    "T_layers = [tr_config[\"trunk_input_dim\"]] + tr_config[\"trunk_architecture\"] + [tr_config[\"deepOnet_width\"]]\n",
    "\n",
    "# T_act_fn: Activation function to be used in the trunk network (e.g., tanh in this case)\n",
    "T_act_fn = tr_config[\"trunk_activation\"]\n",
    "\n",
    "# params_trk: Initializes the parameters of the trunk network (weights and biases) using MLP_init_params function\n",
    "# The input to MLP_init_params is the network layer configuration defined in T_layers.\n",
    "params_trk = MLP_init_params(T_layers)\n",
    "\n",
    "# NN_trk: Assigns the model to be used for the trunk network, which is a multi-layer perceptron (MLP)\n",
    "NN_trk = MLP\n",
    "\n",
    "# params_A: Initializes the parameters for 'A', typically part of the DeepONet model\n",
    "# Uses the Glorot Normal initialization to generate a matrix of shape (number of training samples, width of DeepONet + 1)\n",
    "# These parameters are likely used to combine the outputs from the branch and trunk networks.\n",
    "params_A = glorot_normal(tr_config['num_train'], tr_config['deepOnet_width'] + 1)\n",
    "\n",
    "# params: Combines the parameters of the trunk network (params_trk) and 'A' (params_A) into a single tuple\n",
    "# This tuple contains all the parameters needed for training the model.\n",
    "params = params_trk, params_A\n"
   ]
  },
  {
   "cell_type": "code",
   "execution_count": 20,
   "metadata": {},
   "outputs": [],
   "source": [
    "# Step 1 of DeepONet function definition\n",
    "def DON_step1(params):\n",
    "    # Unpack parameters into trunk network parameters and 'A' parameters\n",
    "    params_trk, params_A = params\n",
    "\n",
    "    # Return a lambda function representing the output of the DeepONet model\n",
    "    # 1. NN_trk(params_trk, x, T_act_fn) applies the trunk network to the input 'x'\n",
    "    #    and computes the trunk output using the specified activation function 'T_act_fn'.\n",
    "    #    The output is reshaped to add an extra dimension to match the shape requirements.\n",
    "    # 2. params_A[:,:-1] @ ... performs a matrix multiplication between 'A' (without the last column) and the trunk network output.\n",
    "    # 3. params_A[:,-1][:,None] adds a bias term (the last column of 'A'), ensuring shape compatibility.\n",
    "    # 4. [:,0] removes the extra dimension added earlier, returning the final output as a 1D array.\n",
    "    return lambda x: (params_A[:,:-1] @ NN_trk(params_trk, x, T_act_fn)[:,None] + params_A[:,-1][:,None])[:,0]\n",
    "\n",
    "# Loss function computation using JAX\n",
    "@jax.jit\n",
    "def loss_step1(params):\n",
    "    # Generate the DeepONet function using the current parameters\n",
    "    don_fn = DON_step1(params)\n",
    "\n",
    "    # Compute the mean squared error (MSE) between the model's predictions and the target values\n",
    "    # vmap applies the 'don_fn' to each row of 'trk_sensor_pts' in parallel\n",
    "    return MSE(vmap(don_fn, (0))(trk_sensor_pts), trk_targets)\n",
    "\n",
    "# Gradient computation setup\n",
    "# value_and_grad returns both the loss value and its gradient with respect to the parameters\n",
    "value_grad_fn = value_and_grad(loss_step1)\n"
   ]
  },
  {
   "cell_type": "code",
   "execution_count": 21,
   "metadata": {},
   "outputs": [
    {
     "data": {
      "text/html": [
       "<style>\n",
       ".enlighten-fg-red {\n",
       "  color: #cd0000;\n",
       "}\n",
       "</style>\n",
       "<div class=\"enlighten\">\n",
       "  <div class=\"enlighten-bar\">\n",
       "    <pre>Main Loop 100%|<span class=\"enlighten-fg-red\">████████████████████████████</span>| 1000/1000 [00:10&lt;00:00, 99.98 epochs/s] loss=8.2337e-05</pre>\n",
       "  </div>\n",
       "</div>\n"
      ],
      "text/plain": [
       "<IPython.core.display.HTML object>"
      ]
     },
     "metadata": {},
     "output_type": "display_data"
    }
   ],
   "source": [
    "# Training configuration parameters\n",
    "maxepochs  = tr_config[\"maxiter_adam\"]  # Maximum number of epochs for training with Adam optimizer\n",
    "lr0        = tr_config[\"lr_0\"]          # Initial learning rate for Adam optimizer\n",
    "decay_rate = tr_config[\"lr_gamma\"]      # Learning rate decay factor\n",
    "decay_step = tr_config[\"lr_step\"]       # Number of steps after which the learning rate is decayed\n",
    "lrf        = tr_config[\"lr_f\"]          # Final learning rate (minimum after decay)\n",
    "\n",
    "# Progress bar setup using enlighten for visual feedback during training\n",
    "manager = enlighten.get_manager()  # Initialize the progress manager\n",
    "outer_bar_format = u'{desc}{desc_pad}{percentage:3.0f}%|{bar}| ' + \\\n",
    "                 u'{count:{len_total}d}/{total:d} ' + \\\n",
    "                 u'[{elapsed}<{eta}, {rate:.2f}{unit_pad}{unit}/s] ' + \\\n",
    "                 u'{loss}{current_loss:1.4e}'  # Custom format for the progress bar, showing loss and time details\n",
    "                 \n",
    "# Create the progress bar for the outer loop (training epochs)\n",
    "pbar_outer = manager.counter(\n",
    "    total=maxepochs,               # Total number of epochs (training iterations)\n",
    "    desc=\"Main Loop\",              # Description of the progress bar\n",
    "    unit=\"epochs\",                 # Unit to track (epochs)\n",
    "    color=\"red\",                   # Color of the progress bar\n",
    "    loss=\"loss=\",                  # Prefix for displaying the loss value\n",
    "    current_loss=1e+9,             # Initial high loss value for display\n",
    "    bar_format=outer_bar_format    # Format defined above for the progress bar\n",
    ")\n",
    "\n",
    "# Optimizer setup using Optax (Adam optimizer with exponential learning rate decay)\n",
    "# Learning rate decays over time with the given decay rate and final value\n",
    "opt_adam = optax.adam(optax.exponential_decay(lr0, decay_step, decay_rate, end_value=lrf))\n",
    "\n",
    "# Initialize the optimizer state using the parameters of the model\n",
    "opt_state = opt_adam.init(params)\n",
    "\n",
    "# Initialize lists to log loss values and minimum loss over epochs\n",
    "log_loss  = []  # Track the loss value for each epoch\n",
    "log_minloss = []  # Track the minimum loss value observed so far\n",
    "\n",
    "# Main training loop for the specified number of epochs\n",
    "for epoch in range(maxepochs):\n",
    "    # Compute the loss value and its gradient with respect to the parameters\n",
    "    lvalue, grads = value_grad_fn(params)\n",
    "    \n",
    "    # Update the optimizer state and compute parameter updates based on the gradients\n",
    "    updates, opt_state = opt_adam.update(grads, opt_state)\n",
    "    \n",
    "    # Apply the computed updates to the model parameters\n",
    "    params = optax.apply_updates(params, updates)\n",
    "    \n",
    "    # Update the progress bar with the current loss value\n",
    "    pbar_outer.update(current_loss=lvalue)\n",
    "    \n",
    "    # For the first epoch, set the minimum loss value to the current loss\n",
    "    if epoch == 0:\n",
    "        minloss = lvalue\n",
    "    \n",
    "    # If the current loss is lower than the minimum loss observed so far, update the minimum loss and save the parameters\n",
    "    if lvalue < minloss:\n",
    "        minloss = lvalue\n",
    "        params_opt = params  # Save the parameters that achieved the minimum loss\n",
    "    \n",
    "    # Log the current loss and minimum loss values\n",
    "    log_loss.append(lvalue)\n",
    "    log_minloss.append(minloss)\n",
    "\n",
    "# Stop the progress bar once training is complete\n",
    "manager.stop()\n"
   ]
  },
  {
   "cell_type": "code",
   "execution_count": 22,
   "metadata": {},
   "outputs": [
    {
     "data": {
      "image/png": "[encoded data removed]",
      "text/plain": [
       "<Figure size 640x480 with 1 Axes>"
      ]
     },
     "metadata": {},
     "output_type": "display_data"
    }
   ],
   "source": [
    "plt.figure()\n",
    "plt.semilogy(log_loss)\n",
    "plt.xlabel('the number of iterations')\n",
    "plt.ylabel('Step 1: Training Loss (MSE)')\n",
    "plt.show()"
   ]
  },
  {
   "cell_type": "code",
   "execution_count": 23,
   "metadata": {},
   "outputs": [
    {
     "name": "stdout",
     "output_type": "stream",
     "text": [
      "INFO: jaxopt.ZoomLineSearch: Iter: 1 Minimum Decrease & Curvature Errors (stop. crit.): 0.0004573978076223284 Stepsize:1.0  Decrease Error:0.00023012068413663656  Curvature Error:0.0004573978076223284 \n",
      "INFO: jaxopt.ZoomLineSearch: Iter: 2 Minimum Decrease & Curvature Errors (stop. crit.): 0.00021932479285169393 Stepsize:0.5  Decrease Error:5.6117147323675454e-05  Curvature Error:0.00021932479285169393 \n",
      "INFO: jaxopt.ZoomLineSearch: Iter: 3 Minimum Decrease & Curvature Errors (stop. crit.): 9.660804062150419e-05 Stepsize:0.25  Decrease Error:1.2259476534381974e-05  Curvature Error:9.660804062150419e-05 \n",
      "INFO: jaxopt.ZoomLineSearch: Iter: 4 Minimum Decrease & Curvature Errors (stop. crit.): 0.0 Stepsize:0.02797587960958481  Decrease Error:0.0  Curvature Error:0.0 \n",
      "INFO: jaxopt.LBFGS: Iter: 1 Gradient Norm (stop. crit.): 0.0005411080783233047 Objective Value:8.10555720818229e-05  Stepsize:0.02797587960958481  Number Linesearch Iterations:4 \n"
     ]
    }
   ],
   "source": [
    "# L-BFGS optimizer configuration and run\n",
    "\n",
    "# Initialize the L-BFGS optimizer using jaxopt\n",
    "# Parameters:\n",
    "# - fun: The function to minimize, in this case, 'loss_step1' which computes the loss.\n",
    "# - value_and_grad=False: Indicates that we are only interested in the function value (not the gradient, as L-BFGS computes it internally).\n",
    "# - maxiter: Maximum number of iterations for the L-BFGS optimization, set from the training config.\n",
    "# - history_size: The number of previous iterations used to approximate the Hessian matrix for the optimizer.\n",
    "# - verbose=True: Enables verbose output to display progress during optimization.\n",
    "opt_lbfgs = jaxopt.LBFGS(\n",
    "    fun=loss_step1, \n",
    "    value_and_grad=False, \n",
    "    maxiter=tr_config[\"maxiter_lbfgs\"], \n",
    "    history_size=10, \n",
    "    verbose=True\n",
    ")\n",
    "\n",
    "# Run the L-BFGS optimization starting from the previously optimized parameters ('params_opt').\n",
    "# The optimization process will attempt to further minimize the loss function.\n",
    "res = opt_lbfgs.run(params_opt)\n",
    "\n",
    "# Unpack the optimized parameters and the state of the optimizer after the run\n",
    "params_opt, state = res\n"
   ]
  },
  {
   "cell_type": "code",
   "execution_count": 24,
   "metadata": {},
   "outputs": [],
   "source": [
    "# Unpack the optimized parameters\n",
    "params_trk, params_A = params_opt  # 'params_opt' contains the final optimized parameters for the trunk network and 'A'\n",
    "\n",
    "# Compute the matrix for the trunk network\n",
    "# vmap applies the NN_trk (trunk network) function to each row of 'trk_sensor_pts' in parallel\n",
    "# This generates the output of the trunk network for all sensor points\n",
    "# A column of ones is concatenated to this output to form the matrix 'trk_MAT1'\n",
    "# Shape of 'trk_MAT1': (number of sensors, trunk network output + 1)\n",
    "trk_MAT1 = np.concatenate(\n",
    "    [vmap(lambda x: NN_trk(params_trk, x, T_act_fn), (0))(trk_sensor_pts),  # Apply trunk network to sensor points\n",
    "     jnp.ones([tr_config[\"trunk_sensor\"], 1])],  # Append a column of ones for bias\n",
    "    axis=1  # Concatenate along the second axis (columns)\n",
    ")\n",
    "\n",
    "# Solve the least squares problem to find the updated 'A' parameters\n",
    "# scipy.linalg.lstsq solves the equation trk_MAT1 @ params_A = trk_targets to minimize the squared error\n",
    "# This finds the best-fitting 'params_A' such that the trunk network output matches the targets\n",
    "params_A = scipy.linalg.lstsq(trk_MAT1, trk_targets)[0]  # Least squares solution\n",
    "\n",
    "# Perform QR decomposition of the matrix 'trk_MAT1'\n",
    "# This decomposes 'trk_MAT1' into an orthogonal matrix 'q_st' and an upper triangular matrix 'r_st'\n",
    "q_st, r_st = scipy.linalg.qr(trk_MAT1, mode='economic')  # 'economic' mode returns the reduced form of the matrices\n",
    "\n",
    "# Compute the target 'A_target' by multiplying 'r_st' with the least squares solution for 'params_A'\n",
    "A_target = r_st @ params_A  # Target value for 'A' based on the QR decomposition\n"
   ]
  },
  {
   "cell_type": "code",
   "execution_count": 25,
   "metadata": {},
   "outputs": [],
   "source": [
    "# save : params_trk, A_target (must save) | In Step 2, Branch should learn A_target\n",
    "# save : trk_MAT1, params_A   (optional)"
   ]
  },
  {
   "cell_type": "code",
   "execution_count": 2,
   "metadata": {},
   "outputs": [
    {
     "ename": "NameError",
     "evalue": "name 'trk_MAT1' is not defined",
     "output_type": "error",
     "traceback": [
      "\u001b[0;31m---------------------------------------------------------------------------\u001b[0m",
      "\u001b[0;31mNameError\u001b[0m                                 Traceback (most recent call last)",
      "Cell \u001b[0;32mIn[2], line 1\u001b[0m\n\u001b[0;32m----> 1\u001b[0m trk_MAT1\n",
      "\u001b[0;31mNameError\u001b[0m: name 'trk_MAT1' is not defined"
     ]
    }
   ],
   "source": []
  },
  {
   "cell_type": "code",
   "execution_count": null,
   "metadata": {},
   "outputs": [],
   "source": []
  }
 ],
 "metadata": {
  "kernelspec": {
   "display_name": "jaxenv",
   "language": "python",
   "name": "python3"
  },
  "language_info": {
   "codemirror_mode": {
    "name": "ipython",
    "version": 3
   },
   "file_extension": ".py",
   "mimetype": "text/x-python",
   "name": "python",
   "nbconvert_exporter": "python",
   "pygments_lexer": "ipython3",
   "version": "3.11.5"
  }
 },
 "nbformat": 4,
 "nbformat_minor": 2
}
